{
 "cells": [
  {
   "cell_type": "code",
   "execution_count": 2,
   "id": "initial_id",
   "metadata": {
    "collapsed": true,
    "ExecuteTime": {
     "end_time": "2023-12-20T01:20:06.010093Z",
     "start_time": "2023-12-20T01:20:01.135612Z"
    }
   },
   "outputs": [
    {
     "name": "stdout",
     "output_type": "stream",
     "text": [
      "Requirement already satisfied: openai==0.28.1 in /Users/galhardo-m1/projetos/teclab/mia/venv/lib/python3.9/site-packages (0.28.1)\r\n",
      "Requirement already satisfied: requests>=2.20 in /Users/galhardo-m1/projetos/teclab/mia/venv/lib/python3.9/site-packages (from openai==0.28.1) (2.31.0)\r\n",
      "Requirement already satisfied: aiohttp in /Users/galhardo-m1/projetos/teclab/mia/venv/lib/python3.9/site-packages (from openai==0.28.1) (3.9.1)\r\n",
      "Requirement already satisfied: tqdm in /Users/galhardo-m1/projetos/teclab/mia/venv/lib/python3.9/site-packages (from openai==0.28.1) (4.66.1)\r\n",
      "Requirement already satisfied: certifi>=2017.4.17 in /Users/galhardo-m1/projetos/teclab/mia/venv/lib/python3.9/site-packages (from requests>=2.20->openai==0.28.1) (2023.11.17)\r\n",
      "Requirement already satisfied: idna<4,>=2.5 in /Users/galhardo-m1/projetos/teclab/mia/venv/lib/python3.9/site-packages (from requests>=2.20->openai==0.28.1) (3.6)\r\n",
      "Requirement already satisfied: urllib3<3,>=1.21.1 in /Users/galhardo-m1/projetos/teclab/mia/venv/lib/python3.9/site-packages (from requests>=2.20->openai==0.28.1) (1.26.18)\r\n",
      "Requirement already satisfied: charset-normalizer<4,>=2 in /Users/galhardo-m1/projetos/teclab/mia/venv/lib/python3.9/site-packages (from requests>=2.20->openai==0.28.1) (2.0.12)\r\n",
      "Requirement already satisfied: async-timeout<5.0,>=4.0 in /Users/galhardo-m1/projetos/teclab/mia/venv/lib/python3.9/site-packages (from aiohttp->openai==0.28.1) (4.0.3)\r\n",
      "Requirement already satisfied: multidict<7.0,>=4.5 in /Users/galhardo-m1/projetos/teclab/mia/venv/lib/python3.9/site-packages (from aiohttp->openai==0.28.1) (6.0.4)\r\n",
      "Requirement already satisfied: frozenlist>=1.1.1 in /Users/galhardo-m1/projetos/teclab/mia/venv/lib/python3.9/site-packages (from aiohttp->openai==0.28.1) (1.4.0)\r\n",
      "Requirement already satisfied: attrs>=17.3.0 in /Users/galhardo-m1/projetos/teclab/mia/venv/lib/python3.9/site-packages (from aiohttp->openai==0.28.1) (23.1.0)\r\n",
      "Requirement already satisfied: aiosignal>=1.1.2 in /Users/galhardo-m1/projetos/teclab/mia/venv/lib/python3.9/site-packages (from aiohttp->openai==0.28.1) (1.3.1)\r\n",
      "Requirement already satisfied: yarl<2.0,>=1.0 in /Users/galhardo-m1/projetos/teclab/mia/venv/lib/python3.9/site-packages (from aiohttp->openai==0.28.1) (1.9.4)\r\n",
      "\r\n",
      "\u001B[1m[\u001B[0m\u001B[34;49mnotice\u001B[0m\u001B[1;39;49m]\u001B[0m\u001B[39;49m A new release of pip available: \u001B[0m\u001B[31;49m22.3.1\u001B[0m\u001B[39;49m -> \u001B[0m\u001B[32;49m23.3.2\u001B[0m\r\n",
      "\u001B[1m[\u001B[0m\u001B[34;49mnotice\u001B[0m\u001B[1;39;49m]\u001B[0m\u001B[39;49m To update, run: \u001B[0m\u001B[32;49mpip install --upgrade pip\u001B[0m\r\n",
      "Requirement already satisfied: requests in /Users/galhardo-m1/projetos/teclab/mia/venv/lib/python3.9/site-packages (2.31.0)\r\n",
      "Requirement already satisfied: certifi>=2017.4.17 in /Users/galhardo-m1/projetos/teclab/mia/venv/lib/python3.9/site-packages (from requests) (2023.11.17)\r\n",
      "Requirement already satisfied: charset-normalizer<4,>=2 in /Users/galhardo-m1/projetos/teclab/mia/venv/lib/python3.9/site-packages (from requests) (2.0.12)\r\n",
      "Requirement already satisfied: idna<4,>=2.5 in /Users/galhardo-m1/projetos/teclab/mia/venv/lib/python3.9/site-packages (from requests) (3.6)\r\n",
      "Requirement already satisfied: urllib3<3,>=1.21.1 in /Users/galhardo-m1/projetos/teclab/mia/venv/lib/python3.9/site-packages (from requests) (1.26.18)\r\n",
      "\r\n",
      "\u001B[1m[\u001B[0m\u001B[34;49mnotice\u001B[0m\u001B[1;39;49m]\u001B[0m\u001B[39;49m A new release of pip available: \u001B[0m\u001B[31;49m22.3.1\u001B[0m\u001B[39;49m -> \u001B[0m\u001B[32;49m23.3.2\u001B[0m\r\n",
      "\u001B[1m[\u001B[0m\u001B[34;49mnotice\u001B[0m\u001B[1;39;49m]\u001B[0m\u001B[39;49m To update, run: \u001B[0m\u001B[32;49mpip install --upgrade pip\u001B[0m\r\n",
      "Requirement already satisfied: flask in /Users/galhardo-m1/projetos/teclab/mia/venv/lib/python3.9/site-packages (3.0.0)\r\n",
      "Requirement already satisfied: blinker>=1.6.2 in /Users/galhardo-m1/projetos/teclab/mia/venv/lib/python3.9/site-packages (from flask) (1.7.0)\r\n",
      "Requirement already satisfied: click>=8.1.3 in /Users/galhardo-m1/projetos/teclab/mia/venv/lib/python3.9/site-packages (from flask) (8.1.7)\r\n",
      "Requirement already satisfied: itsdangerous>=2.1.2 in /Users/galhardo-m1/projetos/teclab/mia/venv/lib/python3.9/site-packages (from flask) (2.1.2)\r\n",
      "Requirement already satisfied: Werkzeug>=3.0.0 in /Users/galhardo-m1/projetos/teclab/mia/venv/lib/python3.9/site-packages (from flask) (3.0.1)\r\n",
      "Requirement already satisfied: importlib-metadata>=3.6.0 in /Users/galhardo-m1/projetos/teclab/mia/venv/lib/python3.9/site-packages (from flask) (7.0.0)\r\n",
      "Requirement already satisfied: Jinja2>=3.1.2 in /Users/galhardo-m1/projetos/teclab/mia/venv/lib/python3.9/site-packages (from flask) (3.1.2)\r\n",
      "Requirement already satisfied: zipp>=0.5 in /Users/galhardo-m1/projetos/teclab/mia/venv/lib/python3.9/site-packages (from importlib-metadata>=3.6.0->flask) (3.17.0)\r\n",
      "Requirement already satisfied: MarkupSafe>=2.0 in /Users/galhardo-m1/projetos/teclab/mia/venv/lib/python3.9/site-packages (from Jinja2>=3.1.2->flask) (2.1.3)\r\n",
      "\r\n",
      "\u001B[1m[\u001B[0m\u001B[34;49mnotice\u001B[0m\u001B[1;39;49m]\u001B[0m\u001B[39;49m A new release of pip available: \u001B[0m\u001B[31;49m22.3.1\u001B[0m\u001B[39;49m -> \u001B[0m\u001B[32;49m23.3.2\u001B[0m\r\n",
      "\u001B[1m[\u001B[0m\u001B[34;49mnotice\u001B[0m\u001B[1;39;49m]\u001B[0m\u001B[39;49m To update, run: \u001B[0m\u001B[32;49mpip install --upgrade pip\u001B[0m\r\n",
      "Requirement already satisfied: python-dotenv in /Users/galhardo-m1/projetos/teclab/mia/venv/lib/python3.9/site-packages (1.0.0)\r\n",
      "\r\n",
      "\u001B[1m[\u001B[0m\u001B[34;49mnotice\u001B[0m\u001B[1;39;49m]\u001B[0m\u001B[39;49m A new release of pip available: \u001B[0m\u001B[31;49m22.3.1\u001B[0m\u001B[39;49m -> \u001B[0m\u001B[32;49m23.3.2\u001B[0m\r\n",
      "\u001B[1m[\u001B[0m\u001B[34;49mnotice\u001B[0m\u001B[1;39;49m]\u001B[0m\u001B[39;49m To update, run: \u001B[0m\u001B[32;49mpip install --upgrade pip\u001B[0m\r\n"
     ]
    }
   ],
   "source": [
    "# Célula para instalar dependências\n",
    "!pip install openai==0.28.1   \n",
    "!pip install requests\n",
    "!pip install flask\n",
    "!pip install python-dotenv "
   ]
  },
  {
   "cell_type": "code",
   "execution_count": 18,
   "outputs": [],
   "source": [
    "import os\n",
    "import openai\n",
    "import requests\n",
    "import json\n",
    "from flask import request, jsonify\n",
    "\n",
    "# Usar os.getenv para ler as variáveis de ambiente\n",
    "openai.api_type = os.getenv('OPENAI_API_TYPE', 'azure')\n",
    "openai.api_version = os.getenv('OPENAI_API_VERSION', '2023-08-01-preview')\n",
    "openai.api_base = os.getenv('OPENAI_API_BASE', 'https://project-name-uri.openai.azure.com/')\n",
    "openai.api_key = os.getenv('OPENAI_API_KEY', 'sua-chave-de-api')\n",
    "deployment_id = os.getenv('DEPLOYMENT_ID', 'deployment-id')\n",
    "\n",
    "search_endpoint = os.getenv('SEARCH_ENDPOINT', 'https://az-search-endpoint-here.search.windows.net')\n",
    "search_key = os.getenv('SEARCH_KEY', 'sua-chave-de-search-here')\n",
    "search_index_name = os.getenv('SEARCH_INDEX_NAME', 'content')"
   ],
   "metadata": {
    "collapsed": false,
    "ExecuteTime": {
     "end_time": "2023-12-20T01:28:46.718411Z",
     "start_time": "2023-12-20T01:28:46.707640Z"
    }
   },
   "id": "22eb980315a0e682"
  },
  {
   "cell_type": "code",
   "execution_count": 19,
   "outputs": [],
   "source": [
    "# Célula 2: Função de Configuração BYOD para o OpenAI\n",
    "def setup_byod(deployment_id):\n",
    "    class BringYourOwnDataAdapter(requests.adapters.HTTPAdapter):\n",
    "        def send(self, request, **kwargs):\n",
    "            request.url = f\"{openai.api_base}/openai/deployments/{deployment_id}/extensions/chat/completions?api-version={openai.api_version}\"\n",
    "            return super().send(request, **kwargs)\n",
    "\n",
    "    session = requests.Session()\n",
    "    session.mount(prefix=f\"{openai.api_base}/openai/deployments/{deployment_id}\", adapter=BringYourOwnDataAdapter())\n",
    "    openai.requestssession = session\n",
    "\n",
    "setup_byod(deployment_id)"
   ],
   "metadata": {
    "collapsed": false,
    "ExecuteTime": {
     "end_time": "2023-12-20T01:28:48.877343Z",
     "start_time": "2023-12-20T01:28:48.865927Z"
    }
   },
   "id": "5a4cf62eeea44275"
  },
  {
   "cell_type": "code",
   "execution_count": 22,
   "outputs": [],
   "source": [
    "# Célula 3: Simulação da Função 'chat' para Testes\n",
    "def chat_simulator(message_text):\n",
    "    try:\n",
    "        completion = openai.ChatCompletion.create(\n",
    "            messages=[{\"role\": \"user\", \"content\": message_text}],\n",
    "            deployment_id=deployment_id,\n",
    "            dataSources=[\n",
    "                {\n",
    "                    \"type\": \"AzureCognitiveSearch\",\n",
    "                    \"parameters\": {\n",
    "                        \"endpoint\": search_endpoint,\n",
    "                        \"key\": search_key,\n",
    "                        \"indexName\": search_index_name,\n",
    "                    }\n",
    "                }\n",
    "            ]\n",
    "        )\n",
    "        decoded_text = completion.choices[0].message.content.encode('latin1').decode('unicode_escape')\n",
    "        return decoded_text\n",
    "    except Exception as e:\n",
    "        return json.dumps({'error': str(e)}, indent=2)"
   ],
   "metadata": {
    "collapsed": false,
    "ExecuteTime": {
     "end_time": "2023-12-20T01:29:32.874900Z",
     "start_time": "2023-12-20T01:29:32.867037Z"
    }
   },
   "id": "ac42162d0792c8d8"
  },
  {
   "cell_type": "code",
   "execution_count": 23,
   "outputs": [
    {
     "name": "stdout",
     "output_type": "stream",
     "text": [
      "Olá! Estou bem, obrigado por perguntar. Como posso ajudá-lo hoje? Lembre-se de que estou aqui para responder a perguntas relacionadas aos documentos recuperados. Se você tiver alguma dúvida, por favor, sinta-se à vontade para perguntar!\n"
     ]
    }
   ],
   "source": [
    "# Célula 4: Executar a Simulação com uma Mensagem de Teste\n",
    "test_message = \"Como você está?\"\n",
    "print(chat_simulator(test_message))"
   ],
   "metadata": {
    "collapsed": false,
    "ExecuteTime": {
     "end_time": "2023-12-20T01:29:36.151059Z",
     "start_time": "2023-12-20T01:29:34.627420Z"
    }
   },
   "id": "53f4e37b50951cc5"
  },
  {
   "cell_type": "code",
   "execution_count": null,
   "outputs": [],
   "source": [],
   "metadata": {
    "collapsed": false
   },
   "id": "1e16bed4d9eecc4d"
  }
 ],
 "metadata": {
  "kernelspec": {
   "display_name": "Python 3",
   "language": "python",
   "name": "python3"
  },
  "language_info": {
   "codemirror_mode": {
    "name": "ipython",
    "version": 2
   },
   "file_extension": ".py",
   "mimetype": "text/x-python",
   "name": "python",
   "nbconvert_exporter": "python",
   "pygments_lexer": "ipython2",
   "version": "2.7.6"
  }
 },
 "nbformat": 4,
 "nbformat_minor": 5
}
