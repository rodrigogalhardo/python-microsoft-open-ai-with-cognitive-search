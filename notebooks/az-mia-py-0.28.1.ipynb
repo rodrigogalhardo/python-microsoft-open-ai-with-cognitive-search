{
 "cells": [
  {
   "cell_type": "code",
   "execution_count": null,
   "id": "initial_id",
   "metadata": {
    "collapsed": true
   },
   "outputs": [],
   "source": [
    "# Célula para instalar dependências\n",
    "!pip install openai==0.28.1   \n",
    "!pip install requests\n",
    "!pip install flask\n",
    "!pip install python-dotenv "
   ]
  },
  {
   "cell_type": "code",
   "execution_count": 18,
   "outputs": [],
   "source": [
    "import os\n",
    "import openai\n",
    "import requests\n",
    "import json\n",
    "from flask import request, jsonify\n",
    "\n",
    "# Usar os.getenv para ler as variáveis de ambiente\n",
    "openai.api_type = os.getenv('OPENAI_API_TYPE', 'azure')\n",
    "openai.api_version = os.getenv('OPENAI_API_VERSION', '2023-08-01-preview')\n",
    "openai.api_base = os.getenv('OPENAI_API_BASE', 'https://project-name-uri.openai.azure.com/')\n",
    "openai.api_key = os.getenv('OPENAI_API_KEY', 'sua-chave-de-api')\n",
    "deployment_id = os.getenv('DEPLOYMENT_ID', 'deployment-id')\n",
    "\n",
    "search_endpoint = os.getenv('SEARCH_ENDPOINT', 'https://az-search-endpoint-here.search.windows.net')\n",
    "search_key = os.getenv('SEARCH_KEY', 'sua-chave-de-search-here')\n",
    "search_index_name = os.getenv('SEARCH_INDEX_NAME', 'content')"
   ],
   "metadata": {
    "collapsed": false,
    "ExecuteTime": {
     "end_time": "2023-12-20T01:28:46.718411Z",
     "start_time": "2023-12-20T01:28:46.707640Z"
    }
   },
   "id": "22eb980315a0e682"
  },
  {
   "cell_type": "code",
   "execution_count": 19,
   "outputs": [],
   "source": [
    "# Célula 2: Função de Configuração BYOD para o OpenAI\n",
    "def setup_byod(deployment_id):\n",
    "    class BringYourOwnDataAdapter(requests.adapters.HTTPAdapter):\n",
    "        def send(self, request, **kwargs):\n",
    "            request.url = f\"{openai.api_base}/openai/deployments/{deployment_id}/extensions/chat/completions?api-version={openai.api_version}\"\n",
    "            return super().send(request, **kwargs)\n",
    "\n",
    "    session = requests.Session()\n",
    "    session.mount(prefix=f\"{openai.api_base}/openai/deployments/{deployment_id}\", adapter=BringYourOwnDataAdapter())\n",
    "    openai.requestssession = session\n",
    "\n",
    "setup_byod(deployment_id)"
   ],
   "metadata": {
    "collapsed": false,
    "ExecuteTime": {
     "end_time": "2023-12-20T01:28:48.877343Z",
     "start_time": "2023-12-20T01:28:48.865927Z"
    }
   },
   "id": "5a4cf62eeea44275"
  },
  {
   "cell_type": "code",
   "execution_count": 22,
   "outputs": [],
   "source": [
    "# Célula 3: Simulação da Função 'chat' para Testes\n",
    "def chat_simulator(message_text):\n",
    "    try:\n",
    "        completion = openai.ChatCompletion.create(\n",
    "            messages=[{\"role\": \"user\", \"content\": message_text}],\n",
    "            deployment_id=deployment_id,\n",
    "            dataSources=[\n",
    "                {\n",
    "                    \"type\": \"AzureCognitiveSearch\",\n",
    "                    \"parameters\": {\n",
    "                        \"endpoint\": search_endpoint,\n",
    "                        \"key\": search_key,\n",
    "                        \"indexName\": search_index_name,\n",
    "                    }\n",
    "                }\n",
    "            ]\n",
    "        )\n",
    "        decoded_text = completion.choices[0].message.content.encode('latin1').decode('unicode_escape')\n",
    "        return decoded_text\n",
    "    except Exception as e:\n",
    "        return json.dumps({'error': str(e)}, indent=2)"
   ],
   "metadata": {
    "collapsed": false,
    "ExecuteTime": {
     "end_time": "2023-12-20T01:29:32.874900Z",
     "start_time": "2023-12-20T01:29:32.867037Z"
    }
   },
   "id": "ac42162d0792c8d8"
  },
  {
   "cell_type": "code",
   "execution_count": 23,
   "outputs": [
    {
     "name": "stdout",
     "output_type": "stream",
     "text": [
      "Olá! Estou bem, obrigado por perguntar. Como posso ajudá-lo hoje? Lembre-se de que estou aqui para responder a perguntas relacionadas aos documentos recuperados. Se você tiver alguma dúvida, por favor, sinta-se à vontade para perguntar!\n"
     ]
    }
   ],
   "source": [
    "# Célula 4: Executar a Simulação com uma Mensagem de Teste\n",
    "test_message = \"Como você está?\"\n",
    "print(chat_simulator(test_message))"
   ],
   "metadata": {
    "collapsed": false,
    "ExecuteTime": {
     "end_time": "2023-12-20T01:29:36.151059Z",
     "start_time": "2023-12-20T01:29:34.627420Z"
    }
   },
   "id": "53f4e37b50951cc5"
  },
  {
   "cell_type": "code",
   "execution_count": null,
   "outputs": [],
   "source": [],
   "metadata": {
    "collapsed": false
   },
   "id": "1e16bed4d9eecc4d"
  }
 ],
 "metadata": {
  "kernelspec": {
   "display_name": "Python 3",
   "language": "python",
   "name": "python3"
  },
  "language_info": {
   "codemirror_mode": {
    "name": "ipython",
    "version": 2
   },
   "file_extension": ".py",
   "mimetype": "text/x-python",
   "name": "python",
   "nbconvert_exporter": "python",
   "pygments_lexer": "ipython2",
   "version": "2.7.6"
  }
 },
 "nbformat": 4,
 "nbformat_minor": 5
}
